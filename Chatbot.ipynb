{
 "cells": [
  {
   "cell_type": "code",
   "execution_count": 3,
   "id": "d2fe2d6d-a5e6-434c-a872-1028cd453ed6",
   "metadata": {},
   "outputs": [
    {
     "name": "stdout",
     "output_type": "stream",
     "text": [
      "Defaulting to user installation because normal site-packages is not writeable\n",
      "Requirement already satisfied: nltk in d:\\anaconda\\lib\\site-packages (3.8.1)\n",
      "Requirement already satisfied: click in d:\\anaconda\\lib\\site-packages (from nltk) (8.1.7)\n",
      "Requirement already satisfied: joblib in d:\\anaconda\\lib\\site-packages (from nltk) (1.2.0)\n",
      "Requirement already satisfied: regex>=2021.8.3 in d:\\anaconda\\lib\\site-packages (from nltk) (2023.10.3)\n",
      "Requirement already satisfied: tqdm in d:\\anaconda\\lib\\site-packages (from nltk) (4.65.0)\n",
      "Requirement already satisfied: colorama in d:\\anaconda\\lib\\site-packages (from click->nltk) (0.4.6)\n",
      "Note: you may need to restart the kernel to use updated packages.\n"
     ]
    }
   ],
   "source": [
    "pip install nltk"
   ]
  },
  {
   "cell_type": "code",
   "execution_count": 7,
   "id": "333e2a98-76d5-4958-b02d-878279367089",
   "metadata": {},
   "outputs": [],
   "source": [
    "import nltk\n",
    "import io\n",
    "import numpy as np\n",
    "import random\n",
    "import string #to process standerd python strings\n",
    "import warnings\n",
    "warnings.filterwarnings('ignore') "
   ]
  },
  {
   "cell_type": "code",
   "execution_count": 8,
   "id": "9dc55b4f-ca42-4a3f-b8fd-37962c0c371f",
   "metadata": {},
   "outputs": [
    {
     "name": "stderr",
     "output_type": "stream",
     "text": [
      "[nltk_data] Downloading package punkt to\n",
      "[nltk_data]     C:\\Users\\Admin\\AppData\\Roaming\\nltk_data...\n",
      "[nltk_data]   Package punkt is already up-to-date!\n",
      "[nltk_data] Downloading package wordnet to\n",
      "[nltk_data]     C:\\Users\\Admin\\AppData\\Roaming\\nltk_data...\n",
      "[nltk_data]   Package wordnet is already up-to-date!\n"
     ]
    }
   ],
   "source": [
    "f=open('D:\\globalwarming.txt','r',errors= 'ignore')\n",
    "raw=f.read()\n",
    "raw=raw.lower()# converts to Lowercase\n",
    "nltk.download('punkt') # first-time use only\n",
    "nltk.download('wordnet') # first-time use only\n",
    "sent_tokens = nltk.sent_tokenize(raw) # converts to list of sentences\n",
    "word_tokens = nltk.word_tokenize(raw) # converts to list of words"
   ]
  },
  {
   "cell_type": "code",
   "execution_count": 9,
   "id": "840b3548-2aaa-4f09-8e74-2f747e5a10a1",
   "metadata": {},
   "outputs": [
    {
     "data": {
      "text/plain": [
       "['what is global warming?',\n",
       " 'global warming is the rise in temperature of the air and oceans globally.']"
      ]
     },
     "execution_count": 9,
     "metadata": {},
     "output_type": "execute_result"
    }
   ],
   "source": [
    "sent_tokens[:2]"
   ]
  },
  {
   "cell_type": "code",
   "execution_count": 10,
   "id": "5274946e-a90e-4190-8b14-de954bd6a713",
   "metadata": {},
   "outputs": [
    {
     "data": {
      "text/plain": [
       "['what', 'is']"
      ]
     },
     "execution_count": 10,
     "metadata": {},
     "output_type": "execute_result"
    }
   ],
   "source": [
    "word_tokens[:2]"
   ]
  },
  {
   "cell_type": "code",
   "execution_count": 13,
   "id": "94337b31-24f0-49a6-8944-bae03728b47e",
   "metadata": {},
   "outputs": [],
   "source": [
    "lemmer = nltk.stem.WordNetLemmatizer()\n",
    "#WordNet is a semantically-oriented dictionary of English included in NLTK. \n",
    "def LemTokens (tokens):\n",
    "    return [lemmer.lemmatize (token) for token in tokens]\n",
    "remove_punct_dict = dict((ord (punct), None) for punct in string.punctuation)\n",
    "def LemNormalize(text):\n",
    "    return LemTokens(nltk.word_tokenize(text.lower().translate(remove_punct_dict)))"
   ]
  },
  {
   "cell_type": "code",
   "execution_count": 15,
   "id": "47df7c5b-2094-48a9-9ff8-7e4caac96e74",
   "metadata": {},
   "outputs": [],
   "source": [
    "GREETING_INPUTS= (\"hello\", \"hi\", \"greetings\", \"sup\", \"what's up\", \"hey\",)\n",
    "GREETING_RESPONSES = [\"hi\", \"hey\", \"*nods*\", \"hi there\", \"hello\", \"I am glad! You are talking to me\"] \n",
    "def greeting(sentence):\n",
    "    for word in sentence.split():\n",
    "        if word.lower() in GREETING_INPUTS:\n",
    "            return random.choice (GREETING_RESPONSES)"
   ]
  },
  {
   "cell_type": "code",
   "execution_count": 16,
   "id": "7a1b44ce-c487-4fb1-ac42-429711fd42a6",
   "metadata": {},
   "outputs": [],
   "source": [
    "from sklearn.feature_extraction.text import TfidfVectorizer\n",
    "from sklearn.metrics.pairwise import cosine_similarity"
   ]
  },
  {
   "cell_type": "code",
   "execution_count": 19,
   "id": "90b9eed2-0dd4-4107-95cb-436187749888",
   "metadata": {
    "scrolled": true
   },
   "outputs": [],
   "source": [
    "def response(user_response):\n",
    "    chatbot_response=''\n",
    "    sent_tokens.append(user_response)\n",
    "    TfidfVec= TfidfVectorizer(tokenizer=LemNormalize, stop_words='english')\n",
    "    tfidf = TfidfVec.fit_transform(sent_tokens)\n",
    "    vals= cosine_similarity(tfidf[-1], tfidf)\n",
    "    idx=vals.argsort()[0][-2]\n",
    "    flat=vals.flatten()\n",
    "    flat.sort()\n",
    "    req_tfidf=flat[-2]\n",
    "    if(req_tfidf==0):\n",
    "        chatbot_response-chatbot_response+\"I am sorry! I don't understand you\"\n",
    "        return chatbot_response\n",
    "    else:\n",
    "        chatbot_response = chatbot_response+sent_tokens[idx]\n",
    "        return chatbot_response     "
   ]
  },
  {
   "cell_type": "code",
   "execution_count": 33,
   "id": "53b3a6f6-62ea-415d-999d-96c1e348e544",
   "metadata": {},
   "outputs": [
    {
     "name": "stdout",
     "output_type": "stream",
     "text": [
      "Chatbot: My name is Chatbot. I will answer your queries about Global Warming. If you want to exit, type Bye!\n"
     ]
    },
    {
     "name": "stdin",
     "output_type": "stream",
     "text": [
      " hi\n"
     ]
    },
    {
     "name": "stdout",
     "output_type": "stream",
     "text": [
      "Chatbot: I am glad! You are talking to me\n"
     ]
    },
    {
     "name": "stdin",
     "output_type": "stream",
     "text": [
      " hello\n"
     ]
    },
    {
     "name": "stdout",
     "output_type": "stream",
     "text": [
      "Chatbot: hi there\n"
     ]
    },
    {
     "name": "stdin",
     "output_type": "stream",
     "text": [
      " what is green house?\n"
     ]
    },
    {
     "name": "stdout",
     "output_type": "stream",
     "text": [
      "Chatbot: the present global warming is mostly because of people burning things, like gasoline for cars and natural gas to keep houses warm.\n"
     ]
    },
    {
     "name": "stdin",
     "output_type": "stream",
     "text": [
      " impact on climate change?\n"
     ]
    },
    {
     "name": "stdout",
     "output_type": "stream",
     "text": [
      "Chatbot: dealing with impacts of climate change\n",
      "people can change how they live because of the effect of climate change.\n"
     ]
    },
    {
     "name": "stdin",
     "output_type": "stream",
     "text": [
      " Extreme weather?\n"
     ]
    },
    {
     "name": "stdout",
     "output_type": "stream",
     "text": [
      "Chatbot: [30]\n",
      "\n",
      "extreme weather\n",
      "\n",
      "global warming can make dangerous heatwaves.\n"
     ]
    },
    {
     "name": "stdin",
     "output_type": "stream",
     "text": [
      " what is the History of climate change science?\n"
     ]
    },
    {
     "name": "stdout",
     "output_type": "stream",
     "text": [
      "Chatbot: history of climate change science\n",
      "\n",
      "as early as the 1820s some scientists were discussing climate change: sunlight heats the surface of the earth, and joseph fourier suggested that some of the heat radiated from the surface is trapped by the atmosphere before it can escape into space.\n"
     ]
    },
    {
     "name": "stdin",
     "output_type": "stream",
     "text": [
      " bye\n"
     ]
    },
    {
     "name": "stdout",
     "output_type": "stream",
     "text": [
      "Chatbot: Bye! take care..\n"
     ]
    }
   ],
   "source": [
    "flag=True\n",
    "print(\"Chatbot: My name is Chatbot. I will answer your queries about Global Warming. If you want to exit, type Bye!\") \n",
    "while(flag==True):\n",
    "    user_response = input()\n",
    "    user_response=user_response.lower()\n",
    "    if (user_response!='bye'):\n",
    "        if(user_response == 'thanks' or user_response == 'thank you' ):\n",
    "            flag=False\n",
    "            print(\"Chatbot: You are welcome..\")\n",
    "        else:\n",
    "            if (greeting(user_response)!=None):\n",
    "                print(\"Chatbot: \"+greeting (user_response))\n",
    "            else:\n",
    "                print(\"Chatbot: \",end=\"\")\n",
    "                print (response(user_response))\n",
    "                sent_tokens.remove(user_response)\n",
    "            \n",
    "    else:\n",
    "        flag=False\n",
    "        print(\"Chatbot: Bye! take care..\")"
   ]
  },
  {
   "cell_type": "code",
   "execution_count": null,
   "id": "fba12e03-0a49-4e33-9b3f-823075e221cf",
   "metadata": {},
   "outputs": [],
   "source": []
  }
 ],
 "metadata": {
  "kernelspec": {
   "display_name": "Python 3 (ipykernel)",
   "language": "python",
   "name": "python3"
  },
  "language_info": {
   "codemirror_mode": {
    "name": "ipython",
    "version": 3
   },
   "file_extension": ".py",
   "mimetype": "text/x-python",
   "name": "python",
   "nbconvert_exporter": "python",
   "pygments_lexer": "ipython3",
   "version": "3.11.7"
  }
 },
 "nbformat": 4,
 "nbformat_minor": 5
}
